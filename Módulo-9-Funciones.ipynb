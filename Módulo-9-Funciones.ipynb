{
 "cells": [
  {
   "cell_type": "markdown",
   "metadata": {},
   "source": [
    "# Ejercicio: Uso de funciones en Python"
   ]
  },
  {
   "cell_type": "markdown",
   "metadata": {},
   "source": [
    "## Ejercicio 1: Trabajar con argumentos en funciones"
   ]
  },
  {
   "cell_type": "code",
   "execution_count": 15,
   "metadata": {},
   "outputs": [
    {
     "name": "stdout",
     "output_type": "stream",
     "text": [
      " Reporte de Tanques:\n",
      "    Promedio de tanques: 75.0%\n",
      "    Tanque 1: 65%\n",
      "    Tanque 2: 75%\n",
      "    Tanque 3: 85%\n",
      "    \n"
     ]
    }
   ],
   "source": [
    "# Función para leer 3 tanques de combustible y muestre el promedio\n",
    "#def tanques(tanque1, tanque2, tanque3):\n",
    "#    promedio_tanques = (tanque1+tanque2+tanque3)/3\n",
    "#    return f\"\"\"Reporte de Tanques:\n",
    "#    Promedio de Tanque: {promedio_tanques}%\n",
    "#    Tanque 1: {tanque1}%\n",
    "#    Tanque 2: {tanque2}%\n",
    "#    Tanque 3: {tanque3}%\n",
    "#    \"\"\"\n",
    "# Llamamos a la función que genera el reporte print(funcion(tanque1, tanque2, tanque3))\n",
    "#print(tanques(65,75,90))\n",
    "# Función promedio\n",
    "def promedio(valores):\n",
    "    total = sum(valores)\n",
    "    numero_de_tanques = len(valores)\n",
    "    return total/numero_de_tanques\n",
    "promedio([65,75,85])\n",
    "# Actualiza la función\n",
    "def tanques(tanque1, tanque2, tanque3):\n",
    "    return f\"\"\" Reporte de Tanques:\n",
    "    Promedio de tanques: {promedio([tanque1,tanque2,tanque3])}%\n",
    "    Tanque 1: {tanque1}%\n",
    "    Tanque 2: {tanque2}%\n",
    "    Tanque 3: {tanque3}%\n",
    "    \"\"\"\n",
    "print(tanques(65,75,85))"
   ]
  },
  {
   "cell_type": "markdown",
   "metadata": {},
   "source": [
    "## Ejercicio 2: Trabajo con argumentos de palabra clave\n"
   ]
  },
  {
   "cell_type": "code",
   "execution_count": 21,
   "metadata": {},
   "outputs": [
    {
     "name": "stdout",
     "output_type": "stream",
     "text": [
      " Informe de la Mision\n",
      "    Destino: Luna\n",
      "    Tiempo de viaje: 59 horas\n",
      "    Estado de combustible: 400 litros\n",
      "    \n"
     ]
    }
   ],
   "source": [
    "# Función con un informe preciso de la misión. Considera hora de prelanzamiento,\n",
    "# tiempo de vuelo, destino, tanque externo y tanque interno\n",
    "# Escribe tu nueva función de reporte considerando lo anterior\n",
    "def informe_mision(prelanzamiento, tvuelo, destino,tanqueE,tanqueI):\n",
    "    return f\"\"\" Informe de la Mision\n",
    "    Destino: {destino}\n",
    "    Tiempo de viaje: {prelanzamiento+tvuelo} horas\n",
    "    Estado de combustible: {tanqueE+tanqueI} litros\n",
    "    \"\"\"\n",
    "print(informe_mision(8,51, \"Luna\", 125, 275))"
   ]
  },
  {
   "cell_type": "code",
   "execution_count": 24,
   "metadata": {},
   "outputs": [
    {
     "name": "stdout",
     "output_type": "stream",
     "text": [
      " Informe de la Mision\n",
      "    Destino : Luna\n",
      "    Tiempo de viaje: 69horas\n",
      "    Total de combustible: 400\n",
      "    \n"
     ]
    }
   ],
   "source": [
    "# Escribe tu nueva función de reporte considerando lo anterior\n",
    "def informe_mision(destino, *horas, **combustible):\n",
    "    return f\"\"\" Informe de la Mision\n",
    "    Destino : {destino}\n",
    "    Tiempo de viaje: {sum(horas)}horas\n",
    "    Total de combustible: {sum(combustible.values())}\n",
    "    \"\"\"\n",
    "\n",
    "print(informe_mision(\"Luna\", 8, 10, 51, tanqueI=275, tanqueE=125))\n"
   ]
  },
  {
   "cell_type": "code",
   "execution_count": 29,
   "metadata": {},
   "outputs": [
    {
     "name": "stdout",
     "output_type": "stream",
     "text": [
      " Informe de la Mision\n",
      "    Destino : Luna\n",
      "    Tiempo de viaje: 69horas\n",
      "    Total de combustible: 400\n",
      "    tanqueI:275 quedan en el tanque \n",
      "tanqueE:125 quedan en el tanque \n",
      "\n"
     ]
    }
   ],
   "source": [
    "# Debido a que el combustible que queda en los tanques es específico de cada tanque,\n",
    "# actualiza la función para usar el nombre de cada tanque en el informe:\n",
    "# Escribe tu nueva función\n",
    "\n",
    "def informe_mision(destino, *horas, **combustible):\n",
    "    reporte_informe = f\"\"\" Informe de la Mision\n",
    "    Destino : {destino}\n",
    "    Tiempo de viaje: {sum(horas)}horas\n",
    "    Total de combustible: {sum(combustible.values())}\n",
    "    \"\"\"\n",
    "    for tanque, litros in combustible.items():\n",
    "        reporte_informe += f\"{tanque}:{litros} quedan en el tanque \\n\"\n",
    "    return reporte_informe\n",
    "\n",
    "\n",
    "print(informe_mision(\"Luna\", 8, 10, 51, tanqueI=275, tanqueE=125))"
   ]
  }
 ],
 "metadata": {
  "interpreter": {
   "hash": "a1d4d868cb8e103e2e38f53d932a52f2bdd6a3452db66b5c578db9167d585835"
  },
  "kernelspec": {
   "display_name": "Python 3.10.2 64-bit",
   "language": "python",
   "name": "python3"
  },
  "language_info": {
   "codemirror_mode": {
    "name": "ipython",
    "version": 3
   },
   "file_extension": ".py",
   "mimetype": "text/x-python",
   "name": "python",
   "nbconvert_exporter": "python",
   "pygments_lexer": "ipython3",
   "version": "3.10.2"
  },
  "orig_nbformat": 4
 },
 "nbformat": 4,
 "nbformat_minor": 2
}

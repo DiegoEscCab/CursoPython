{
 "cells": [
  {
   "cell_type": "markdown",
   "metadata": {},
   "source": [
    "# Módulo 8 - Administrar datos con diccionarios"
   ]
  },
  {
   "cell_type": "markdown",
   "metadata": {},
   "source": [
    "## Ejercicio 1: Creación de diccionarios de Python"
   ]
  },
  {
   "cell_type": "code",
   "execution_count": 25,
   "metadata": {},
   "outputs": [
    {
     "name": "stdout",
     "output_type": "stream",
     "text": [
      "Mars\n",
      "2\n",
      "{'polar': 6752, 'equatorial': 6792}\n",
      "Mars su circunferencia polar es: 6752\n",
      "Mars su circunferencia equatorial es: 6792\n"
     ]
    }
   ],
   "source": [
    "#name: Mars\n",
    "#moons: 2\n",
    "# Crea un diccionario llamado planet con los datos propuestos\n",
    "planet = {\n",
    "    'name': 'Mars',\n",
    "    'moons': 2\n",
    "}\n",
    "# Para recuperar valores, puede utilizar el método get\n",
    "# o corchetes ([ ]) con el nombre de la clave que desea recuperar.\n",
    "# Muestra el nombre del planeta y el número de lunas que tiene.\n",
    "print(planet.get('name'))\n",
    "print(planet.get('moons'))\n",
    "# Agrega un nuevo valor con una clave de 'circunferencia (km)'.\n",
    "# Este nuevo valor debería almacenar un diccionario con las dos circunferencias del planeta:\n",
    "# polar: 6752\n",
    "# equatorial: 6792\n",
    "# Agrega la clave circunferencia con los datos proporcionados previamente\n",
    "planet['circunferencia(km)'] = {\n",
    "    'polar': 6752,\n",
    "    'equatorial': 6792\n",
    "}\n",
    "print(planet.get('circunferencia(km)'))\n",
    "print(f'{planet[\"name\"]} su circunferencia polar es: {planet[\"circunferencia(km)\"][\"polar\"]}')\n",
    "print(f'{planet[\"name\"]} su circunferencia equatorial es: {planet[\"circunferencia(km)\"][\"equatorial\"]}')"
   ]
  },
  {
   "cell_type": "markdown",
   "metadata": {},
   "source": [
    "## Ejercicio 2: Programación dinámica con diccionarios"
   ]
  },
  {
   "cell_type": "code",
   "execution_count": 30,
   "metadata": {},
   "outputs": [
    {
     "name": "stdout",
     "output_type": "stream",
     "text": [
      "dict_values([0, 0, 1, 2, 79, 82, 27, 14, 5, 2, 1, 1])\n",
      "12\n",
      "214\n",
      "17.833333333333332\n"
     ]
    }
   ],
   "source": [
    "# En este escenario, calcularás tanto el número total de lunas en el sistema solar\n",
    "# como el número promedio de lunas que tiene un planeta.\n",
    "# Planets and moons\n",
    "planet_moons = {\n",
    "    'mercury': 0,\n",
    "    'venus': 0,\n",
    "    'earth': 1,\n",
    "    'mars': 2,\n",
    "    'jupiter': 79,\n",
    "    'saturn': 82,\n",
    "    'uranus': 27,\n",
    "    'neptune': 14,\n",
    "    'pluto': 5,\n",
    "    'haumea': 2,\n",
    "    'makemake': 1,\n",
    "    'eris': 1\n",
    "}\n",
    "\n",
    "moons = planet_moons.values()\n",
    "print(moons)\n",
    "planets = len(planet_moons.keys())\n",
    "print(planets)\n",
    "# Agrega el código para contar el número de lunas.\n",
    "# Puedes hacerlo creando un ciclo for para iterar a través de las lunas moons\n",
    "# y agregándolos a una variable denominada total_moons.\n",
    "# Finalmente calcule el promedio dividiendo total_moons por planets e imprimiendo los resultados.\n",
    "# Agrega el código para contar el número de lunas.\n",
    "total_moons = 0\n",
    "for value in planet_moons.values():\n",
    "    total_moons = total_moons + value\n",
    "print(total_moons)\n",
    "average_moons = total_moons / planets\n",
    "print(average_moons)"
   ]
  }
 ],
 "metadata": {
  "interpreter": {
   "hash": "a1d4d868cb8e103e2e38f53d932a52f2bdd6a3452db66b5c578db9167d585835"
  },
  "kernelspec": {
   "display_name": "Python 3.10.2 64-bit",
   "language": "python",
   "name": "python3"
  },
  "language_info": {
   "codemirror_mode": {
    "name": "ipython",
    "version": 3
   },
   "file_extension": ".py",
   "mimetype": "text/x-python",
   "name": "python",
   "nbconvert_exporter": "python",
   "pygments_lexer": "ipython3",
   "version": "3.10.2"
  },
  "orig_nbformat": 4
 },
 "nbformat": 4,
 "nbformat_minor": 2
}

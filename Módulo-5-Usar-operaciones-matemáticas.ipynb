{
 "cells": [
  {
   "cell_type": "markdown",
   "metadata": {},
   "source": [
    "# Ejercicio 2: convierte cadenas en números y usa valores absolutos\n"
   ]
  },
  {
   "cell_type": "code",
   "execution_count": 29,
   "metadata": {},
   "outputs": [
    {
     "name": "stdout",
     "output_type": "stream",
     "text": [
      "1622600000 kilometros es la distancia entre los dos planetaws introducidos\n",
      "1007634600.0 millas es la distancia entre los dos planetaws introducidos\n"
     ]
    }
   ],
   "source": [
    "#Lee los valores\n",
    "#Usando input, agrega el código para leer la distancia del sol para cada planeta, considerando 2 planetas.\n",
    "# Almacenar las entradas del usuario\n",
    "#Pista: variable = input(\"¿Cuál es tu nombre?\")\n",
    "#Mercurio= 57900000\n",
    "#Venus=108200000\n",
    "#Tierra=149600000\n",
    "#Marte=227900000\n",
    "#Júpiter=778600000\n",
    "#Saturno=1433500000\n",
    "#Urano=2872500000\n",
    "#Neptuno=4495100000\n",
    "planeta_1 = input(\"Cual es la distancia del primer planeta?\")\n",
    "planeta_2 = input(\"Cual es la distancia del segundo planeta\")\n",
    "# Convierte las cadenas de ambos planetas a números enteros\n",
    "planeta_1 = int(planeta_1)\n",
    "planeta_2 = int(planeta_2)\n",
    "# Realizar el cálculo y determinar el valor absoluto\n",
    "# También agregarás el código para mostrar el resultado en millas multiplicando la distancia del kilómetro por 0.621\n",
    "distancia_planetas_km = (abs(planeta_2-planeta_1))\n",
    "print(distancia_planetas_km, \"kilometros es la distancia entre los dos planetaws introducidos\")\n",
    "distancia_planetas_m = distancia_planetas_km * 0.621\n",
    "print(distancia_planetas_m, \"millas es la distancia entre los dos planetaws introducidos\")"
   ]
  },
  {
   "cell_type": "markdown",
   "metadata": {},
   "source": [
    "# Ejercicio1 - Utilizar operadores aritméticos"
   ]
  },
  {
   "cell_type": "markdown",
   "metadata": {},
   "source": [
    "## Exploremos cómo podemos crear un programa que pueda calcular la distancia entre dos planetas. Comenzaremos usando dos distancias de planetas: Tierra (149.597.870 km) y Júpiter (778.547.200 km)."
   ]
  },
  {
   "cell_type": "code",
   "execution_count": 1,
   "metadata": {},
   "outputs": [],
   "source": [
    "# Crear variables para almacenar las dos distancias\n",
    "tierra = 149597870\n",
    "jupiter = 778547200"
   ]
  },
  {
   "cell_type": "code",
   "execution_count": 12,
   "metadata": {},
   "outputs": [
    {
     "name": "stdout",
     "output_type": "stream",
     "text": [
      "628949330\n"
     ]
    }
   ],
   "source": [
    "# Calcular la distancia entre planetas\n",
    "distancia_km = jupiter - tierra\n",
    "print(distancia)"
   ]
  },
  {
   "cell_type": "code",
   "execution_count": 13,
   "metadata": {},
   "outputs": [
    {
     "name": "stdout",
     "output_type": "stream",
     "text": [
      "390577533.93\n"
     ]
    }
   ],
   "source": [
    "#Kilometros a Millas\n",
    "distancia_m = distancia_km * 0.621\n",
    "print(distancia_m)"
   ]
  }
 ],
 "metadata": {
  "interpreter": {
   "hash": "a1d4d868cb8e103e2e38f53d932a52f2bdd6a3452db66b5c578db9167d585835"
  },
  "kernelspec": {
   "display_name": "Python 3.10.2 64-bit",
   "language": "python",
   "name": "python3"
  },
  "language_info": {
   "codemirror_mode": {
    "name": "ipython",
    "version": 3
   },
   "file_extension": ".py",
   "mimetype": "text/x-python",
   "name": "python",
   "nbconvert_exporter": "python",
   "pygments_lexer": "ipython3",
   "version": "3.10.2"
  },
  "orig_nbformat": 4
 },
 "nbformat": 4,
 "nbformat_minor": 2
}

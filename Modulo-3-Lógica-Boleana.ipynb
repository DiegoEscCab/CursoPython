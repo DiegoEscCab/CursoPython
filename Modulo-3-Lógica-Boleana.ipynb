{
 "cells": [
  {
   "cell_type": "markdown",
   "metadata": {},
   "source": [
    "# Modulo 3 - Lógica Boleana"
   ]
  },
  {
   "cell_type": "markdown",
   "metadata": {},
   "source": [
    "## Ejercicio: Uso de operadores and y or"
   ]
  },
  {
   "cell_type": "markdown",
   "metadata": {},
   "source": [
    "Los asteroides de menos de 25 metros en su dimensión más grande probablemente se quemarán a medida que entren en la atmósfera de la Tierra.\n",
    "\n",
    "Si una pieza de un asteroide que es más grande que 25 metros pero más pequeña que 1000 metros golpeara la Tierra, causaría mucho daño.\n",
    "También discutimos en el ejercicio anterior que:\n",
    "\n",
    "La velocidad del asteroide varía en función de lo cerca que esté del sol, y cualquier velocidad superior a 25 kilómetros por segundo (km/s) merece una advertencia.\n",
    "Si un asteroide entra en la atmósfera de la Tierra a una velocidad mayor o igual a 20 km/s, a veces produce un rayo de luz que se puede ver desde la Tierra.\n",
    "Usando toda esta información, escribe un programa que emita la advertencia o información correcta a la gente de la Tierra, según la velocidad y el tamaño de un asteroide. Utiliza instrucciones if, else, y elif, así como los operadores and y or."
   ]
  },
  {
   "cell_type": "code",
   "execution_count": 59,
   "metadata": {},
   "outputs": [
    {
     "name": "stdout",
     "output_type": "stream",
     "text": [
      "Se acerca un asteroide de gran tamano y a gran velocidad, un rayo esta siendo visible, corra por su vida\n"
     ]
    }
   ],
   "source": [
    "tamano_asteroide = 450\n",
    "velocidad_asteroide = 24\n",
    "if tamano_asteroide >= 25 and velocidad_asteroide >= 20:\n",
    "    print(str(\"Se acerca un asteroide de gran tamano y a gran velocidad, un rayo esta siendo visible, corra por su vida\"))\n",
    "elif tamano_asteroide > 25 and velocidad_asteroide < 20:\n",
    "    print(str(\"Viene un asteroide de gran tamano a baja velocidad, no emitira un rayo, notifique si lo puede ver\"))\n",
    "elif tamano_asteroide < 25 and velocidad_asteroide > 20:\n",
    "    print(str(\"Un asteroide no peligroso entra a la tierra, esta haciendo destello de un rayo\"))\n",
    "elif tamano_asteroide < 25 and velocidad_asteroide < 20:\n",
    "    print(str(\"Hoy es un agradable dia\"))\n",
    "else:\n",
    "    print(str(\"Hoy es un dia agradable\"))"
   ]
  },
  {
   "cell_type": "markdown",
   "metadata": {},
   "source": [
    "##  Ejercicios - Escribir declaraciones if, else, y elif"
   ]
  },
  {
   "cell_type": "markdown",
   "metadata": {},
   "source": [
    "Para este ejercicio, escribirás una lógica condicional que imprima una advertencia si un asteroide se acerca a la Tierra demasiado rápido.\n",
    "La velocidad del asteroide varía dependiendo de lo cerca que esté del sol, y cualquier velocidad superior a 25 kilómetros por segundo (km/s) merece una advertencia.\n",
    "Un asteroide se acerca, y viaja a una velocidad de 49 km/s."
   ]
  },
  {
   "cell_type": "code",
   "execution_count": 42,
   "metadata": {},
   "outputs": [
    {
     "name": "stdout",
     "output_type": "stream",
     "text": [
      "Nos vamos a morir, corra por su vida\n"
     ]
    }
   ],
   "source": [
    "radar = 25\n",
    "asteroide = 49\n",
    "if asteroide > radar:\n",
    "    print(str(\"Nos vamos a morir, corra por su vida\"))\n",
    "else:\n",
    "    print(str(\"Puede seguir con su día normal ciudadano promedio\"))"
   ]
  },
  {
   "cell_type": "markdown",
   "metadata": {},
   "source": [
    "Si un asteroide entra en la atmósfera de la Tierra a una velocidad mayor o igual a 20 km/s, a veces produce un rayo de luz que se puede ver desde la Tierra.\n",
    "Escribe la lógica condicional que usa declaraciones if, else, y elif para alertar a las personas de todo el mundo que deben buscar un asteroide en el cielo.\n",
    "¡Hay uno que se dirige a la tierra ahora a una velocidad de 19 km/s!\n",
    "\n"
   ]
  },
  {
   "cell_type": "code",
   "execution_count": 43,
   "metadata": {},
   "outputs": [
    {
     "name": "stdout",
     "output_type": "stream",
     "text": [
      "No se produce el rayo, buscar asteroide en el cielo\n"
     ]
    }
   ],
   "source": [
    "radar = 20\n",
    "asteroide = 19\n",
    "if asteroide > radar:\n",
    "    print(str(\"Se desata un rayo, viene un asteroide mayor a los 20km/s (oh no)\"))\n",
    "elif asteroide < radar:\n",
    "    print(str(\"No se produce el rayo, buscar asteroide en el cielo\"))\n",
    "else:\n",
    "    print(str(\"Se produce rayo, viene un asteroide a 20km/s\"))"
   ]
  }
 ],
 "metadata": {
  "interpreter": {
   "hash": "a1d4d868cb8e103e2e38f53d932a52f2bdd6a3452db66b5c578db9167d585835"
  },
  "kernelspec": {
   "display_name": "Python 3.10.2 64-bit",
   "language": "python",
   "name": "python3"
  },
  "language_info": {
   "codemirror_mode": {
    "name": "ipython",
    "version": 3
   },
   "file_extension": ".py",
   "mimetype": "text/x-python",
   "name": "python",
   "nbconvert_exporter": "python",
   "pygments_lexer": "ipython3",
   "version": "3.10.2"
  },
  "orig_nbformat": 4
 },
 "nbformat": 4,
 "nbformat_minor": 2
}
